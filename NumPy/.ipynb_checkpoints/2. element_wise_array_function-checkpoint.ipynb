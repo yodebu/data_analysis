{
 "metadata": {
  "name": "",
  "signature": "sha256:7b02742bf412f56abce824cae75f22421ef634cb946e6e7b034a0b67968ba85d"
 },
 "nbformat": 3,
 "nbformat_minor": 0,
 "worksheets": [
  {
   "cells": [
    {
     "cell_type": "code",
     "collapsed": false,
     "input": [
      "## import conventions\n",
      "%matplotlib inline \n",
      "import numpy as np\n",
      "import matplotlib.pyplot as plt"
     ],
     "language": "python",
     "metadata": {},
     "outputs": [],
     "prompt_number": 137
    },
    {
     "cell_type": "code",
     "collapsed": false,
     "input": [
      "arr_odd = np.arange(1,10,2)\n",
      "arr_odd"
     ],
     "language": "python",
     "metadata": {},
     "outputs": [
      {
       "metadata": {},
       "output_type": "pyout",
       "prompt_number": 138,
       "text": [
        "array([1, 3, 5, 7, 9])"
       ]
      }
     ],
     "prompt_number": 138
    },
    {
     "cell_type": "code",
     "collapsed": false,
     "input": [
      "arr_even = np.arange(2,12,2)\n",
      "arr_even"
     ],
     "language": "python",
     "metadata": {},
     "outputs": [
      {
       "metadata": {},
       "output_type": "pyout",
       "prompt_number": 139,
       "text": [
        "array([ 2,  4,  6,  8, 10])"
       ]
      }
     ],
     "prompt_number": 139
    },
    {
     "cell_type": "heading",
     "level": 2,
     "metadata": {},
     "source": [
      "NumPy Operations on arrays"
     ]
    },
    {
     "cell_type": "code",
     "collapsed": false,
     "input": [
      "## squaring numpy array\n",
      "np.square(arr_even)"
     ],
     "language": "python",
     "metadata": {},
     "outputs": [
      {
       "metadata": {},
       "output_type": "pyout",
       "prompt_number": 141,
       "text": [
        "array([  4,  16,  36,  64, 100])"
       ]
      }
     ],
     "prompt_number": 141
    },
    {
     "cell_type": "code",
     "collapsed": false,
     "input": [
      "np.maximum(arr_odd,arr_even)"
     ],
     "language": "python",
     "metadata": {},
     "outputs": [
      {
       "metadata": {},
       "output_type": "pyout",
       "prompt_number": 142,
       "text": [
        "array([ 2,  4,  6,  8, 10])"
       ]
      }
     ],
     "prompt_number": 142
    },
    {
     "cell_type": "code",
     "collapsed": false,
     "input": [
      "## Checks if value in arr_even is not a number\n",
      "np.isnan(arr_even)"
     ],
     "language": "python",
     "metadata": {},
     "outputs": [
      {
       "metadata": {},
       "output_type": "pyout",
       "prompt_number": 143,
       "text": [
        "array([False, False, False, False, False], dtype=bool)"
       ]
      }
     ],
     "prompt_number": 143
    },
    {
     "cell_type": "heading",
     "level": 2,
     "metadata": {},
     "source": [
      "Vectorization"
     ]
    },
    {
     "cell_type": "code",
     "collapsed": false,
     "input": [
      "points = np.arange(-3,3,1)\n",
      "points"
     ],
     "language": "python",
     "metadata": {},
     "outputs": [
      {
       "metadata": {},
       "output_type": "pyout",
       "prompt_number": 144,
       "text": [
        "array([-3, -2, -1,  0,  1,  2])"
       ]
      }
     ],
     "prompt_number": 144
    },
    {
     "cell_type": "code",
     "collapsed": false,
     "input": [
      "## Generating X and Y arrays for 3-D plots\n",
      "x, y = np.meshgrid(points, points)"
     ],
     "language": "python",
     "metadata": {},
     "outputs": [
      {
       "metadata": {},
       "output_type": "pyout",
       "prompt_number": 164,
       "text": [
        "array([[ True, False, False, False, False, False],\n",
        "       [False,  True, False, False, False, False],\n",
        "       [False, False,  True, False, False, False],\n",
        "       [False, False, False,  True, False, False],\n",
        "       [False, False, False, False,  True, False],\n",
        "       [False, False, False, False, False,  True]], dtype=bool)"
       ]
      }
     ],
     "prompt_number": 164
    },
    {
     "cell_type": "code",
     "collapsed": false,
     "input": [
      "## Pythagoras Theorem\n",
      "z = np.sqrt(x ** 2 + y **2)\n",
      "z"
     ],
     "language": "python",
     "metadata": {},
     "outputs": [
      {
       "metadata": {},
       "output_type": "pyout",
       "prompt_number": 165,
       "text": [
        "array([[ 4.24264069,  3.60555128,  3.16227766,  3.        ,  3.16227766,\n",
        "         3.60555128],\n",
        "       [ 3.60555128,  2.82842712,  2.23606798,  2.        ,  2.23606798,\n",
        "         2.82842712],\n",
        "       [ 3.16227766,  2.23606798,  1.41421356,  1.        ,  1.41421356,\n",
        "         2.23606798],\n",
        "       [ 3.        ,  2.        ,  1.        ,  0.        ,  1.        ,\n",
        "         2.        ],\n",
        "       [ 3.16227766,  2.23606798,  1.41421356,  1.        ,  1.41421356,\n",
        "         2.23606798],\n",
        "       [ 3.60555128,  2.82842712,  2.23606798,  2.        ,  2.23606798,\n",
        "         2.82842712]])"
       ]
      }
     ],
     "prompt_number": 165
    },
    {
     "cell_type": "heading",
     "level": 2,
     "metadata": {},
     "source": [
      "Plotting preview"
     ]
    },
    {
     "cell_type": "code",
     "collapsed": false,
     "input": [
      "plt.imshow(z, cmap=plt.cm.Blues)\n",
      "plt.colorbar()\n",
      "plt.title(\"Test Title\")\n",
      "plt.xlabel(\"var_x\")\n",
      "plt.ylabel(\"var_y\")\n",
      "plt.show()"
     ],
     "language": "python",
     "metadata": {},
     "outputs": [
      {
       "metadata": {},
       "output_type": "display_data",
       "png": "[encoded data removed]",
       "text": [
        "<matplotlib.figure.Figure at 0x107239b10>"
       ]
      }
     ],
     "prompt_number": 168
    },
    {
     "cell_type": "heading",
     "level": 2,
     "metadata": {},
     "source": [
      "Conditional Logic as Array Operations"
     ]
    },
    {
     "cell_type": "code",
     "collapsed": false,
     "input": [
      "arr1 = np.random.randn(4, 4)\n",
      "arr1"
     ],
     "language": "python",
     "metadata": {},
     "outputs": [
      {
       "metadata": {},
       "output_type": "pyout",
       "prompt_number": 148,
       "text": [
        "array([[ 0.04627179, -1.13547156, -0.58373095,  1.40412469],\n",
        "       [-0.25680486, -0.29873333,  1.39163544, -0.19757478],\n",
        "       [ 0.2743659 ,  0.79699298, -0.92031036, -0.24012935],\n",
        "       [ 0.33366609, -1.37001943, -0.57568051, -1.28550362]])"
       ]
      }
     ],
     "prompt_number": 148
    },
    {
     "cell_type": "code",
     "collapsed": false,
     "input": [
      "## if condition true, replace with 2, else -2\n",
      "arr2 = np.where(arr1 > 0, 2, -2)\n",
      "arr2"
     ],
     "language": "python",
     "metadata": {},
     "outputs": [
      {
       "metadata": {},
       "output_type": "pyout",
       "prompt_number": 149,
       "text": [
        "array([[ 2, -2, -2,  2],\n",
        "       [-2, -2,  2, -2],\n",
        "       [ 2,  2, -2, -2],\n",
        "       [ 2, -2, -2, -2]])"
       ]
      }
     ],
     "prompt_number": 149
    },
    {
     "cell_type": "heading",
     "level": 2,
     "metadata": {},
     "source": [
      "Mathematical and Stat Methods"
     ]
    },
    {
     "cell_type": "code",
     "collapsed": false,
     "input": [
      "arr2.mean()"
     ],
     "language": "python",
     "metadata": {},
     "outputs": [
      {
       "metadata": {},
       "output_type": "pyout",
       "prompt_number": 151,
       "text": [
        "-0.5"
       ]
      }
     ],
     "prompt_number": 151
    },
    {
     "cell_type": "code",
     "collapsed": false,
     "input": [
      "arr2.std()"
     ],
     "language": "python",
     "metadata": {},
     "outputs": [
      {
       "metadata": {},
       "output_type": "pyout",
       "prompt_number": 152,
       "text": [
        "1.9364916731037085"
       ]
      }
     ],
     "prompt_number": 152
    },
    {
     "cell_type": "code",
     "collapsed": false,
     "input": [
      "arr2.var()\n",
      "arr2.min()\n",
      "arr2.max()"
     ],
     "language": "python",
     "metadata": {},
     "outputs": [
      {
       "metadata": {},
       "output_type": "pyout",
       "prompt_number": 153,
       "text": [
        "2"
       ]
      }
     ],
     "prompt_number": 153
    },
    {
     "cell_type": "heading",
     "level": 2,
     "metadata": {},
     "source": [
      "Methods for Boolean Arrays"
     ]
    },
    {
     "cell_type": "code",
     "collapsed": false,
     "input": [
      "bools = np.array([False, False, False, False])"
     ],
     "language": "python",
     "metadata": {},
     "outputs": [],
     "prompt_number": 170
    },
    {
     "cell_type": "code",
     "collapsed": false,
     "input": [
      "## check if at least one is true\n",
      "bools.any()"
     ],
     "language": "python",
     "metadata": {},
     "outputs": [
      {
       "metadata": {},
       "output_type": "pyout",
       "prompt_number": 171,
       "text": [
        "False"
       ]
      }
     ],
     "prompt_number": 171
    },
    {
     "cell_type": "code",
     "collapsed": false,
     "input": [
      "## checks if all - true\n",
      "bools.all()"
     ],
     "language": "python",
     "metadata": {},
     "outputs": [
      {
       "metadata": {},
       "output_type": "pyout",
       "prompt_number": 172,
       "text": [
        "False"
       ]
      }
     ],
     "prompt_number": 172
    },
    {
     "cell_type": "heading",
     "level": 2,
     "metadata": {},
     "source": [
      "Sorting"
     ]
    },
    {
     "cell_type": "code",
     "collapsed": false,
     "input": [
      "## inclusive index:exclusive index\n",
      "arr = arr1[:,:2]\n",
      "arr"
     ],
     "language": "python",
     "metadata": {},
     "outputs": [
      {
       "metadata": {},
       "output_type": "pyout",
       "prompt_number": 157,
       "text": [
        "array([[ 0.04627179, -1.13547156],\n",
        "       [-0.25680486, -0.29873333],\n",
        "       [ 0.2743659 ,  0.79699298],\n",
        "       [ 0.33366609, -1.37001943]])"
       ]
      }
     ],
     "prompt_number": 157
    },
    {
     "cell_type": "code",
     "collapsed": false,
     "input": [
      "## sorts both columns lowest -> highest\n",
      "arr.sort()\n",
      "arr"
     ],
     "language": "python",
     "metadata": {},
     "outputs": [
      {
       "metadata": {},
       "output_type": "pyout",
       "prompt_number": 173,
       "text": [
        "array([[-1.13547156,  0.04627179],\n",
        "       [-0.29873333, -0.25680486],\n",
        "       [ 0.2743659 ,  0.79699298],\n",
        "       [-1.37001943,  0.33366609]])"
       ]
      }
     ],
     "prompt_number": 173
    },
    {
     "cell_type": "heading",
     "level": 2,
     "metadata": {},
     "source": [
      "Array set operations"
     ]
    },
    {
     "cell_type": "code",
     "collapsed": false,
     "input": [
      "f_arr = np.array([3, 3, 3, 2, 2, 1, 1, 4, 4], dtype=float)\n",
      "f_arr"
     ],
     "language": "python",
     "metadata": {},
     "outputs": [
      {
       "metadata": {},
       "output_type": "pyout",
       "prompt_number": 159,
       "text": [
        "array([ 3.,  3.,  3.,  2.,  2.,  1.,  1.,  4.,  4.])"
       ]
      }
     ],
     "prompt_number": 159
    },
    {
     "cell_type": "code",
     "collapsed": false,
     "input": [
      "## checks unique values in f_arr\n",
      "np.unique(f_arr)"
     ],
     "language": "python",
     "metadata": {},
     "outputs": [
      {
       "metadata": {},
       "output_type": "pyout",
       "prompt_number": 160,
       "text": [
        "array([ 1.,  2.,  3.,  4.])"
       ]
      }
     ],
     "prompt_number": 160
    },
    {
     "cell_type": "code",
     "collapsed": false,
     "input": [
      "x,z"
     ],
     "language": "python",
     "metadata": {},
     "outputs": [
      {
       "metadata": {},
       "output_type": "pyout",
       "prompt_number": 178,
       "text": [
        "(array([[-3, -2, -1,  0,  1,  2],\n",
        "        [-3, -2, -1,  0,  1,  2],\n",
        "        [-3, -2, -1,  0,  1,  2],\n",
        "        [-3, -2, -1,  0,  1,  2],\n",
        "        [-3, -2, -1,  0,  1,  2],\n",
        "        [-3, -2, -1,  0,  1,  2]]),\n",
        " array([[ 4.24264069,  3.60555128,  3.16227766,  3.        ,  3.16227766,\n",
        "          3.60555128],\n",
        "        [ 3.60555128,  2.82842712,  2.23606798,  2.        ,  2.23606798,\n",
        "          2.82842712],\n",
        "        [ 3.16227766,  2.23606798,  1.41421356,  1.        ,  1.41421356,\n",
        "          2.23606798],\n",
        "        [ 3.        ,  2.        ,  1.        ,  0.        ,  1.        ,\n",
        "          2.        ],\n",
        "        [ 3.16227766,  2.23606798,  1.41421356,  1.        ,  1.41421356,\n",
        "          2.23606798],\n",
        "        [ 3.60555128,  2.82842712,  2.23606798,  2.        ,  2.23606798,\n",
        "          2.82842712]]))"
       ]
      }
     ],
     "prompt_number": 178
    },
    {
     "cell_type": "code",
     "collapsed": false,
     "input": [
      "## common elements in x and z\n",
      "np.intersect1d(x,z)"
     ],
     "language": "python",
     "metadata": {},
     "outputs": [
      {
       "metadata": {},
       "output_type": "pyout",
       "prompt_number": 179,
       "text": [
        "array([ 0.,  1.,  2.])"
       ]
      }
     ],
     "prompt_number": 179
    },
    {
     "cell_type": "code",
     "collapsed": false,
     "input": [
      "## union of all elements in x and z\n",
      "np.union1d(x,z)"
     ],
     "language": "python",
     "metadata": {},
     "outputs": [
      {
       "metadata": {},
       "output_type": "pyout",
       "prompt_number": 182,
       "text": [
        "array([-3.        , -2.        , -1.        ,  0.        ,  1.        ,\n",
        "        1.41421356,  2.        ,  2.23606798,  2.82842712,  3.        ,\n",
        "        3.16227766,  3.60555128,  4.24264069])"
       ]
      }
     ],
     "prompt_number": 182
    },
    {
     "cell_type": "code",
     "collapsed": false,
     "input": [
      "## bool of each elem in x if in z\n",
      "np.in1d(x[:2],z[:2])"
     ],
     "language": "python",
     "metadata": {},
     "outputs": [
      {
       "metadata": {},
       "output_type": "pyout",
       "prompt_number": 184,
       "text": [
        "array([False, False, False, False, False,  True, False, False, False,\n",
        "       False, False,  True], dtype=bool)"
       ]
      }
     ],
     "prompt_number": 184
    },
    {
     "cell_type": "code",
     "collapsed": false,
     "input": [
      "## elem of x not in z\n",
      "np.setdiff1d(x,z)"
     ],
     "language": "python",
     "metadata": {},
     "outputs": [
      {
       "metadata": {},
       "output_type": "pyout",
       "prompt_number": 185,
       "text": [
        "array([-3, -2, -1])"
       ]
      }
     ],
     "prompt_number": 185
    },
    {
     "cell_type": "code",
     "collapsed": false,
     "input": [
      "## elem in either x or z but not both\n",
      "np.setxor1d(x,z)"
     ],
     "language": "python",
     "metadata": {},
     "outputs": [
      {
       "metadata": {},
       "output_type": "pyout",
       "prompt_number": 200,
       "text": [
        "array([-3.        , -2.        , -1.        ,  1.41421356,  2.23606798,\n",
        "        2.82842712,  3.        ,  3.16227766,  3.60555128,  4.24264069])"
       ]
      }
     ],
     "prompt_number": 200
    },
    {
     "cell_type": "heading",
     "level": 2,
     "metadata": {},
     "source": [
      "Exercise"
     ]
    },
    {
     "cell_type": "code",
     "collapsed": false,
     "input": [
      "gaps1 = [False,False,True,True,False,True,False]\n",
      "gaps2 = [False,False,True,True,False,True]\n",
      "gaps3 = [True,False,True,True,False,True]"
     ],
     "language": "python",
     "metadata": {},
     "outputs": []
    },
    {
     "cell_type": "heading",
     "level": 6,
     "metadata": {},
     "source": [
      "Count all False bool and consider consecutive False bools as 1 count\n",
      "i.e\n",
      "gap = [False,False,True,False,True]\n",
      "answer:\n",
      "gaps = 2"
     ]
    }
   ],
   "metadata": {}
  }
 ]
}