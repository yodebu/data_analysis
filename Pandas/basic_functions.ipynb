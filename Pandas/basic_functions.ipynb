{
 "metadata": {
  "name": "",
  "signature": "sha256:ef096f46280847507736acedf8ea2f14a146c6c8191a406ca097bdafbf709808"
 },
 "nbformat": 3,
 "nbformat_minor": 0,
 "worksheets": [
  {
   "cells": [
    {
     "cell_type": "code",
     "collapsed": false,
     "input": [
      "## Import conventions for Pandas and Numpy \n",
      "import pandas as pd\n",
      "import numpy as np\n",
      "\n",
      "## for simplicity\n",
      "Panel = pd.Panel\n",
      "DataFrame = pd.DataFrame\n",
      "Series = pd.Series\n",
      "randn = np.random.rand\n",
      "\n",
      "## Some Pandas options\n",
      "pd.set_option(\"html\",False) ## If you don't want html outputs\n",
      "pd.set_option(\"max_columns\",30)\n",
      "pd.set_option(\"max_rows\",20)"
     ],
     "language": "python",
     "metadata": {},
     "outputs": [],
     "prompt_number": 8
    },
    {
     "cell_type": "code",
     "collapsed": true,
     "input": [
      "## init dataframes\n",
      "m1 = Series(randn(100))\n",
      "m2 = Series(randn(100))\n",
      "m3 = Series(randn(101))\n",
      "dict_of_series = {\"m1\": m1, \"m2\": m2, \"m3\": m3}\n",
      "df1 = pd.DataFrame(data=dict_of_series)\n",
      "df2 = df1 + 2\n",
      "print df1\n",
      "print df2"
     ],
     "language": "python",
     "metadata": {},
     "outputs": [
      {
       "output_type": "stream",
       "stream": "stdout",
       "text": [
        "           m1        m2        m3\n",
        "0    0.711860  0.357545  0.292215\n",
        "1    0.828297  0.883666  0.480005\n",
        "2    0.923699  0.270547  0.558791\n",
        "3    0.159573  0.694744  0.474412\n",
        "4    0.249505  0.822675  0.492641\n",
        "5    0.142938  0.232195  0.107754\n",
        "6    0.587272  0.374862  0.342945\n",
        "7    0.709810  0.311246  0.206941\n",
        "8    0.717398  0.536498  0.104422\n",
        "9    0.170147  0.526760  0.306003\n",
        "..        ...       ...       ...\n",
        "91   0.849870  0.254654  0.984803\n",
        "92   0.978009  0.271425  0.014733\n",
        "93   0.204452  0.221734  0.287110\n",
        "94   0.943065  0.985023  0.195502\n",
        "95   0.451772  0.957815  0.958532\n",
        "96   0.826935  0.888979  0.141040\n",
        "97   0.031463  0.276965  0.765940\n",
        "98   0.824205  0.088831  0.176496\n",
        "99   0.231416  0.463245  0.335246\n",
        "100       NaN       NaN  0.128588\n",
        "\n",
        "[101 rows x 3 columns]\n",
        "           m1        m2        m3\n",
        "0    2.711860  2.357545  2.292215\n",
        "1    2.828297  2.883666  2.480005\n",
        "2    2.923699  2.270547  2.558791\n",
        "3    2.159573  2.694744  2.474412\n",
        "4    2.249505  2.822675  2.492641\n",
        "5    2.142938  2.232195  2.107754\n",
        "6    2.587272  2.374862  2.342945\n",
        "7    2.709810  2.311246  2.206941\n",
        "8    2.717398  2.536498  2.104422\n",
        "9    2.170147  2.526760  2.306003\n",
        "..        ...       ...       ...\n",
        "91   2.849870  2.254654  2.984803\n",
        "92   2.978009  2.271425  2.014733\n",
        "93   2.204452  2.221734  2.287110\n",
        "94   2.943065  2.985023  2.195502\n",
        "95   2.451772  2.957815  2.958532\n",
        "96   2.826935  2.888979  2.141040\n",
        "97   2.031463  2.276965  2.765940\n",
        "98   2.824205  2.088831  2.176496\n",
        "99   2.231416  2.463245  2.335246\n",
        "100       NaN       NaN  2.128588\n",
        "\n",
        "[101 rows x 3 columns]\n"
       ]
      }
     ],
     "prompt_number": 9
    },
    {
     "cell_type": "heading",
     "level": 2,
     "metadata": {},
     "source": [
      "Head and Tail"
     ]
    },
    {
     "cell_type": "code",
     "collapsed": false,
     "input": [
      "## First 5 values\n",
      "df1.head()"
     ],
     "language": "python",
     "metadata": {},
     "outputs": [
      {
       "metadata": {},
       "output_type": "pyout",
       "prompt_number": 10,
       "text": [
        "         m1        m2        m3\n",
        "0  0.711860  0.357545  0.292215\n",
        "1  0.828297  0.883666  0.480005\n",
        "2  0.923699  0.270547  0.558791\n",
        "3  0.159573  0.694744  0.474412\n",
        "4  0.249505  0.822675  0.492641"
       ]
      }
     ],
     "prompt_number": 10
    },
    {
     "cell_type": "code",
     "collapsed": false,
     "input": [
      "## Last 5 values\n",
      "df1.tail()"
     ],
     "language": "python",
     "metadata": {},
     "outputs": [
      {
       "metadata": {},
       "output_type": "pyout",
       "prompt_number": 11,
       "text": [
        "           m1        m2        m3\n",
        "96   0.826935  0.888979  0.141040\n",
        "97   0.031463  0.276965  0.765940\n",
        "98   0.824205  0.088831  0.176496\n",
        "99   0.231416  0.463245  0.335246\n",
        "100       NaN       NaN  0.128588"
       ]
      }
     ],
     "prompt_number": 11
    },
    {
     "cell_type": "heading",
     "level": 2,
     "metadata": {},
     "source": [
      "Import csv/xls/sql"
     ]
    },
    {
     "cell_type": "code",
     "collapsed": false,
     "input": [
      "csv_file = pd.read_csv?"
     ],
     "language": "python",
     "metadata": {},
     "outputs": [],
     "prompt_number": 12
    },
    {
     "cell_type": "code",
     "collapsed": false,
     "input": [
      "csv_file = pd.read_csv"
     ],
     "language": "python",
     "metadata": {},
     "outputs": []
    },
    {
     "cell_type": "code",
     "collapsed": false,
     "input": [
      "csv_file = pd.read_sql_table?"
     ],
     "language": "python",
     "metadata": {},
     "outputs": [],
     "prompt_number": 13
    },
    {
     "cell_type": "code",
     "collapsed": false,
     "input": [
      "csv_file = pd.read_sql_table"
     ],
     "language": "python",
     "metadata": {},
     "outputs": []
    },
    {
     "cell_type": "heading",
     "level": 2,
     "metadata": {},
     "source": [
      "Dealing with missing values"
     ]
    },
    {
     "cell_type": "code",
     "collapsed": false,
     "input": [
      "df1"
     ],
     "language": "python",
     "metadata": {},
     "outputs": [
      {
       "metadata": {},
       "output_type": "pyout",
       "prompt_number": 14,
       "text": [
        "           m1        m2        m3\n",
        "0    0.711860  0.357545  0.292215\n",
        "1    0.828297  0.883666  0.480005\n",
        "2    0.923699  0.270547  0.558791\n",
        "3    0.159573  0.694744  0.474412\n",
        "4    0.249505  0.822675  0.492641\n",
        "5    0.142938  0.232195  0.107754\n",
        "6    0.587272  0.374862  0.342945\n",
        "7    0.709810  0.311246  0.206941\n",
        "8    0.717398  0.536498  0.104422\n",
        "9    0.170147  0.526760  0.306003\n",
        "..        ...       ...       ...\n",
        "91   0.849870  0.254654  0.984803\n",
        "92   0.978009  0.271425  0.014733\n",
        "93   0.204452  0.221734  0.287110\n",
        "94   0.943065  0.985023  0.195502\n",
        "95   0.451772  0.957815  0.958532\n",
        "96   0.826935  0.888979  0.141040\n",
        "97   0.031463  0.276965  0.765940\n",
        "98   0.824205  0.088831  0.176496\n",
        "99   0.231416  0.463245  0.335246\n",
        "100       NaN       NaN  0.128588\n",
        "\n",
        "[101 rows x 3 columns]"
       ]
      }
     ],
     "prompt_number": 14
    },
    {
     "cell_type": "code",
     "collapsed": false,
     "input": [
      "## Summary of missing values\n",
      "df1.isnull().sum()\n",
      "df1"
     ],
     "language": "python",
     "metadata": {},
     "outputs": [
      {
       "metadata": {},
       "output_type": "pyout",
       "prompt_number": 15,
       "text": [
        "           m1        m2        m3\n",
        "0    0.711860  0.357545  0.292215\n",
        "1    0.828297  0.883666  0.480005\n",
        "2    0.923699  0.270547  0.558791\n",
        "3    0.159573  0.694744  0.474412\n",
        "4    0.249505  0.822675  0.492641\n",
        "5    0.142938  0.232195  0.107754\n",
        "6    0.587272  0.374862  0.342945\n",
        "7    0.709810  0.311246  0.206941\n",
        "8    0.717398  0.536498  0.104422\n",
        "9    0.170147  0.526760  0.306003\n",
        "..        ...       ...       ...\n",
        "91   0.849870  0.254654  0.984803\n",
        "92   0.978009  0.271425  0.014733\n",
        "93   0.204452  0.221734  0.287110\n",
        "94   0.943065  0.985023  0.195502\n",
        "95   0.451772  0.957815  0.958532\n",
        "96   0.826935  0.888979  0.141040\n",
        "97   0.031463  0.276965  0.765940\n",
        "98   0.824205  0.088831  0.176496\n",
        "99   0.231416  0.463245  0.335246\n",
        "100       NaN       NaN  0.128588\n",
        "\n",
        "[101 rows x 3 columns]"
       ]
      }
     ],
     "prompt_number": 15
    },
    {
     "cell_type": "code",
     "collapsed": false,
     "input": [
      "## filling missing data\n",
      "fill_df1 = df1.fillna(1.0)\n",
      "fill_df1"
     ],
     "language": "python",
     "metadata": {},
     "outputs": [
      {
       "metadata": {},
       "output_type": "pyout",
       "prompt_number": 16,
       "text": [
        "           m1        m2        m3\n",
        "0    0.711860  0.357545  0.292215\n",
        "1    0.828297  0.883666  0.480005\n",
        "2    0.923699  0.270547  0.558791\n",
        "3    0.159573  0.694744  0.474412\n",
        "4    0.249505  0.822675  0.492641\n",
        "5    0.142938  0.232195  0.107754\n",
        "6    0.587272  0.374862  0.342945\n",
        "7    0.709810  0.311246  0.206941\n",
        "8    0.717398  0.536498  0.104422\n",
        "9    0.170147  0.526760  0.306003\n",
        "..        ...       ...       ...\n",
        "91   0.849870  0.254654  0.984803\n",
        "92   0.978009  0.271425  0.014733\n",
        "93   0.204452  0.221734  0.287110\n",
        "94   0.943065  0.985023  0.195502\n",
        "95   0.451772  0.957815  0.958532\n",
        "96   0.826935  0.888979  0.141040\n",
        "97   0.031463  0.276965  0.765940\n",
        "98   0.824205  0.088831  0.176496\n",
        "99   0.231416  0.463245  0.335246\n",
        "100  1.000000  1.000000  0.128588\n",
        "\n",
        "[101 rows x 3 columns]"
       ]
      }
     ],
     "prompt_number": 16
    },
    {
     "cell_type": "code",
     "collapsed": false,
     "input": [
      "df1.fillna(1.0)"
     ],
     "language": "python",
     "metadata": {},
     "outputs": [
      {
       "metadata": {},
       "output_type": "pyout",
       "prompt_number": 19,
       "text": [
        "           m1        m2        m3\n",
        "0    0.711860  0.357545  0.292215\n",
        "1    0.828297  0.883666  0.480005\n",
        "2    0.923699  0.270547  0.558791\n",
        "3    0.159573  0.694744  0.474412\n",
        "4    0.249505  0.822675  0.492641\n",
        "5    0.142938  0.232195  0.107754\n",
        "6    0.587272  0.374862  0.342945\n",
        "7    0.709810  0.311246  0.206941\n",
        "8    0.717398  0.536498  0.104422\n",
        "9    0.170147  0.526760  0.306003\n",
        "..        ...       ...       ...\n",
        "91   0.849870  0.254654  0.984803\n",
        "92   0.978009  0.271425  0.014733\n",
        "93   0.204452  0.221734  0.287110\n",
        "94   0.943065  0.985023  0.195502\n",
        "95   0.451772  0.957815  0.958532\n",
        "96   0.826935  0.888979  0.141040\n",
        "97   0.031463  0.276965  0.765940\n",
        "98   0.824205  0.088831  0.176496\n",
        "99   0.231416  0.463245  0.335246\n",
        "100  1.000000  1.000000  0.128588\n",
        "\n",
        "[101 rows x 3 columns]"
       ]
      }
     ],
     "prompt_number": 19
    },
    {
     "cell_type": "heading",
     "level": 2,
     "metadata": {},
     "source": [
      "Comparison methods"
     ]
    },
    {
     "cell_type": "code",
     "collapsed": false,
     "input": [
      "df1.ne(fill_df1) ## not equal\n",
      "df1.lt(fill_df1) ## less than"
     ],
     "language": "python",
     "metadata": {},
     "outputs": []
    },
    {
     "cell_type": "heading",
     "level": 2,
     "metadata": {},
     "source": [
      "Boolean reductions"
     ]
    },
    {
     "cell_type": "code",
     "collapsed": false,
     "input": [
      "## checks if boolean data is empty\n",
      "df1.empty   "
     ],
     "language": "python",
     "metadata": {},
     "outputs": []
    },
    {
     "cell_type": "code",
     "collapsed": false,
     "input": [
      "DataFrame(columns=list(\"ABCD\")).empty"
     ],
     "language": "python",
     "metadata": {},
     "outputs": []
    },
    {
     "cell_type": "code",
     "collapsed": false,
     "input": [
      "## checks if all in df1 is less than 1\n",
      "(df1<1).all()"
     ],
     "language": "python",
     "metadata": {},
     "outputs": []
    },
    {
     "cell_type": "code",
     "collapsed": false,
     "input": [
      "## checks if any in df1 is less than 1\n",
      "(df1<1).any()"
     ],
     "language": "python",
     "metadata": {},
     "outputs": []
    },
    {
     "cell_type": "code",
     "collapsed": false,
     "input": [
      "##Comparing if obejects are equal\n",
      "(df1+df1).equals(df1*2)"
     ],
     "language": "python",
     "metadata": {},
     "outputs": []
    },
    {
     "cell_type": "code",
     "collapsed": false,
     "input": [
      "## note that\n",
      "np.nan == np.nan ## is False"
     ],
     "language": "python",
     "metadata": {},
     "outputs": []
    },
    {
     "cell_type": "heading",
     "level": 2,
     "metadata": {},
     "source": [
      "Combining overlapping data sets"
     ]
    },
    {
     "cell_type": "code",
     "collapsed": false,
     "input": [
      "## Will retain values in df1 \n",
      "## and change missing values in df1\n",
      "## using values in fill_df1\n",
      "%prun df1.combine_first(fill_df1)"
     ],
     "language": "python",
     "metadata": {},
     "outputs": [
      {
       "output_type": "stream",
       "stream": "stdout",
       "text": [
        " "
       ]
      }
     ],
     "prompt_number": 33
    },
    {
     "cell_type": "code",
     "collapsed": false,
     "input": [],
     "language": "python",
     "metadata": {},
     "outputs": []
    }
   ],
   "metadata": {}
  }
 ]
}