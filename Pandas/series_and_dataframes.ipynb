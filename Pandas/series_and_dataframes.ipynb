{
 "metadata": {
  "name": "",
  "signature": "sha256:49dacffdd92db9d5ff979ec067cf4890a3f760a28e28c28dd39884acd12dda45"
 },
 "nbformat": 3,
 "nbformat_minor": 0,
 "worksheets": [
  {
   "cells": [
    {
     "cell_type": "code",
     "collapsed": true,
     "input": [
      "## Just my website\n",
      "from IPython.core.display import HTML\n",
      "HTML(\"<iframe src=http://gjvivar.github.io width=500 height=300></iframe>\")"
     ],
     "language": "python",
     "metadata": {},
     "outputs": [
      {
       "html": [
        "<iframe src=http://gjvivar.github.io width=500 height=300></iframe>"
       ],
       "metadata": {},
       "output_type": "pyout",
       "prompt_number": 142,
       "text": [
        "<IPython.core.display.HTML at 0x131457590>"
       ]
      }
     ],
     "prompt_number": 142
    },
    {
     "cell_type": "heading",
     "level": 1,
     "metadata": {},
     "source": [
      "Series"
     ]
    },
    {
     "cell_type": "code",
     "collapsed": false,
     "input": [
      "## Import conventions for Pandas and Numpy \n",
      "import pandas as pd\n",
      "import numpy as np "
     ],
     "language": "python",
     "metadata": {},
     "outputs": [],
     "prompt_number": 143
    },
    {
     "cell_type": "code",
     "collapsed": true,
     "input": [
      "## Some Pandas options\n",
      "pd.set_option(\"html\",False) ## If you don't want html outputs\n",
      "pd.set_option(\"max_columns\",30)\n",
      "pd.set_option(\"max_rows\",20)"
     ],
     "language": "python",
     "metadata": {},
     "outputs": [],
     "prompt_number": 144
    },
    {
     "cell_type": "code",
     "collapsed": true,
     "input": [
      "## Series\n",
      "series_a = pd.Series([11,22,33,44])\n",
      "series_a"
     ],
     "language": "python",
     "metadata": {},
     "outputs": [
      {
       "metadata": {},
       "output_type": "pyout",
       "prompt_number": 145,
       "text": [
        "0    11\n",
        "1    22\n",
        "2    33\n",
        "3    44\n",
        "dtype: int64"
       ]
      }
     ],
     "prompt_number": 145
    },
    {
     "cell_type": "code",
     "collapsed": true,
     "input": [
      "## If data is dict\n",
      "d = {'a' : 0., 'b' : 1., 'c' : 2.}\n",
      "pd.Series(d)"
     ],
     "language": "python",
     "metadata": {},
     "outputs": [
      {
       "metadata": {},
       "output_type": "pyout",
       "prompt_number": 146,
       "text": [
        "a    0\n",
        "b    1\n",
        "c    2\n",
        "dtype: float64"
       ]
      }
     ],
     "prompt_number": 146
    },
    {
     "cell_type": "code",
     "collapsed": false,
     "input": [
      "## Series with explicit index\n",
      "## Explicit index should be equals the data\n",
      "randn = np.random.randn   ## Random numbers and Normal distribution\n",
      "series_b = pd.Series(randn(5), index=['a', 'b', 'c', 'd', 'e'])\n",
      "series_b"
     ],
     "language": "python",
     "metadata": {},
     "outputs": [
      {
       "metadata": {},
       "output_type": "pyout",
       "prompt_number": 147,
       "text": [
        "a    0.284133\n",
        "b   -0.384154\n",
        "c   -0.468773\n",
        "d   -1.909632\n",
        "e   -1.821386\n",
        "dtype: float64"
       ]
      }
     ],
     "prompt_number": 147
    },
    {
     "cell_type": "code",
     "collapsed": true,
     "input": [
      "## Check values\n",
      "series_a.values"
     ],
     "language": "python",
     "metadata": {},
     "outputs": [
      {
       "metadata": {},
       "output_type": "pyout",
       "prompt_number": 148,
       "text": [
        "array([11, 22, 33, 44])"
       ]
      }
     ],
     "prompt_number": 148
    },
    {
     "cell_type": "code",
     "collapsed": true,
     "input": [
      "## Check index\n",
      "print series_a.index\n",
      "print series_b.index"
     ],
     "language": "python",
     "metadata": {},
     "outputs": [
      {
       "output_type": "stream",
       "stream": "stdout",
       "text": [
        "Int64Index([0, 1, 2, 3], dtype='int64')\n",
        "Index([u'a', u'b', u'c', u'd', u'e'], dtype='object')\n"
       ]
      }
     ],
     "prompt_number": 149
    },
    {
     "cell_type": "code",
     "collapsed": true,
     "input": [
      "## Indexing\n",
      "series_b[0] \n",
      "# series_b[\"a\"] ## or this way "
     ],
     "language": "python",
     "metadata": {},
     "outputs": [
      {
       "metadata": {},
       "output_type": "pyout",
       "prompt_number": 150,
       "text": [
        "0.28413275782769487"
       ]
      }
     ],
     "prompt_number": 150
    },
    {
     "cell_type": "code",
     "collapsed": true,
     "input": [
      "series_a[1:]"
     ],
     "language": "python",
     "metadata": {},
     "outputs": [
      {
       "metadata": {},
       "output_type": "pyout",
       "prompt_number": 151,
       "text": [
        "1    22\n",
        "2    33\n",
        "3    44\n",
        "dtype: int64"
       ]
      }
     ],
     "prompt_number": 151
    },
    {
     "cell_type": "code",
     "collapsed": true,
     "input": [
      "series_a[[1,3]]"
     ],
     "language": "python",
     "metadata": {},
     "outputs": [
      {
       "metadata": {},
       "output_type": "pyout",
       "prompt_number": 152,
       "text": [
        "1    22\n",
        "3    44\n",
        "dtype: int64"
       ]
      }
     ],
     "prompt_number": 152
    },
    {
     "cell_type": "code",
     "collapsed": false,
     "input": [
      "series_a_log10 = np.log10(series_a)\n",
      "series_a_log10"
     ],
     "language": "python",
     "metadata": {},
     "outputs": [
      {
       "metadata": {},
       "output_type": "pyout",
       "prompt_number": 153,
       "text": [
        "0    1.041393\n",
        "1    1.342423\n",
        "2    1.518514\n",
        "3    1.643453\n",
        "dtype: float64"
       ]
      }
     ],
     "prompt_number": 153
    },
    {
     "cell_type": "code",
     "collapsed": false,
     "input": [
      "## Vectorized operations\n",
      "series_a + series_a"
     ],
     "language": "python",
     "metadata": {},
     "outputs": [
      {
       "metadata": {},
       "output_type": "pyout",
       "prompt_number": 154,
       "text": [
        "0    22\n",
        "1    44\n",
        "2    66\n",
        "3    88\n",
        "dtype: int64"
       ]
      }
     ],
     "prompt_number": 154
    },
    {
     "cell_type": "code",
     "collapsed": false,
     "input": [
      "## caution when adding different\n",
      "## index and data types\n",
      "series_a + series_b"
     ],
     "language": "python",
     "metadata": {},
     "outputs": [
      {
       "metadata": {},
       "output_type": "pyout",
       "prompt_number": 155,
       "text": [
        "0   NaN\n",
        "1   NaN\n",
        "2   NaN\n",
        "3   NaN\n",
        "a   NaN\n",
        "b   NaN\n",
        "c   NaN\n",
        "d   NaN\n",
        "e   NaN\n",
        "dtype: float64"
       ]
      }
     ],
     "prompt_number": 155
    },
    {
     "cell_type": "code",
     "collapsed": false,
     "input": [
      "## series operations are aligned automatically\n",
      "## based on label\n",
      "series_a[0:] + series_a[:3]"
     ],
     "language": "python",
     "metadata": {},
     "outputs": [
      {
       "metadata": {},
       "output_type": "pyout",
       "prompt_number": 156,
       "text": [
        "0    22\n",
        "1    44\n",
        "2    66\n",
        "3   NaN\n",
        "dtype: float64"
       ]
      }
     ],
     "prompt_number": 156
    },
    {
     "cell_type": "code",
     "collapsed": false,
     "input": [
      "## name attribute for series\n",
      "series_a.name = \"just_numbers\""
     ],
     "language": "python",
     "metadata": {},
     "outputs": [],
     "prompt_number": 157
    },
    {
     "cell_type": "heading",
     "level": 1,
     "metadata": {},
     "source": [
      "DataFrame"
     ]
    },
    {
     "cell_type": "code",
     "collapsed": false,
     "input": [
      "## List to DataFrame\n",
      "list_a = [(1,2,3,False),(11,22,33,44,True)]\n",
      "pd.DataFrame(list_a)"
     ],
     "language": "python",
     "metadata": {},
     "outputs": [
      {
       "metadata": {},
       "output_type": "pyout",
       "prompt_number": 158,
       "text": [
        "    0   1   2      3     4\n",
        "0   1   2   3  False  None\n",
        "1  11  22  33     44  True"
       ]
      }
     ],
     "prompt_number": 158
    },
    {
     "cell_type": "code",
     "collapsed": true,
     "input": [
      "## List of dicts to DF\n",
      "list_d = [{'a': 1, 'b': 2}, {'a': 5, 'b': 10, 'c': 20}]\n",
      "pd.DataFrame(list_d)"
     ],
     "language": "python",
     "metadata": {},
     "outputs": [
      {
       "metadata": {},
       "output_type": "pyout",
       "prompt_number": 159,
       "text": [
        "   a   b   c\n",
        "0  1   2 NaN\n",
        "1  5  10  20"
       ]
      }
     ],
     "prompt_number": 159
    },
    {
     "cell_type": "code",
     "collapsed": false,
     "input": [
      "## Dict of list to DataFrame\n",
      "dict_a = {'a' : [1,10], 'b' : [2,20], 'c' : [3,30]}\n",
      "pd.DataFrame(dict_a)"
     ],
     "language": "python",
     "metadata": {},
     "outputs": [
      {
       "metadata": {},
       "output_type": "pyout",
       "prompt_number": 160,
       "text": [
        "    a   b   c\n",
        "0   1   2   3\n",
        "1  10  20  30"
       ]
      }
     ],
     "prompt_number": 160
    },
    {
     "cell_type": "code",
     "collapsed": false,
     "input": [
      "## Alternate constructors\n",
      "## .from_dict(should pass a dict of dict)\n",
      "dict_a = {'a' : [1,10], 'b' : [2,20], 'c' : [3,30]}\n",
      "pd.DataFrame.from_records(dict_a, index=\"c\")"
     ],
     "language": "python",
     "metadata": {},
     "outputs": [
      {
       "metadata": {},
       "output_type": "pyout",
       "prompt_number": 161,
       "text": [
        "     a   b\n",
        "c         \n",
        "3    1   2\n",
        "30  10  20"
       ]
      }
     ],
     "prompt_number": 161
    },
    {
     "cell_type": "code",
     "collapsed": false,
     "input": [
      "## Dict of Series to DataFrame\n",
      "Series = pd.Series\n",
      "series_dict = {'a' : Series([1,10]), \n",
      "               'b' : Series([2,20]), 'c' : Series([3])}\n",
      "df_a = pd.DataFrame(series_dict)\n",
      "df_a"
     ],
     "language": "python",
     "metadata": {},
     "outputs": [
      {
       "metadata": {},
       "output_type": "pyout",
       "prompt_number": 162,
       "text": [
        "    a   b   c\n",
        "0   1   2   3\n",
        "1  10  20 NaN"
       ]
      }
     ],
     "prompt_number": 162
    },
    {
     "cell_type": "code",
     "collapsed": false,
     "input": [
      "## Indexing 2nd elem of b column\n",
      "df_a[\"b\"][1]"
     ],
     "language": "python",
     "metadata": {},
     "outputs": [
      {
       "metadata": {},
       "output_type": "pyout",
       "prompt_number": 163,
       "text": [
        "20"
       ]
      }
     ],
     "prompt_number": 163
    },
    {
     "cell_type": "code",
     "collapsed": false,
     "input": [
      "## New DataFrame using existing DataFrame\n",
      "## Selecting participants 1 and 2 using index\n",
      "## Selecting \"a\" columns and missing column \"new_a\"\n",
      "\n",
      "new_df_a = pd.DataFrame(df_a, index=[0,1,2], columns=[\"a\",\"new_a\"])\n",
      "new_df_a"
     ],
     "language": "python",
     "metadata": {},
     "outputs": [
      {
       "metadata": {},
       "output_type": "pyout",
       "prompt_number": 164,
       "text": [
        "    a  new_a\n",
        "0   1    NaN\n",
        "1  10    NaN\n",
        "2 NaN    NaN"
       ]
      }
     ],
     "prompt_number": 164
    },
    {
     "cell_type": "code",
     "collapsed": false,
     "input": [
      "## Checking index and column\n",
      "print df_a.index, \"\\n\", df_a.columns"
     ],
     "language": "python",
     "metadata": {},
     "outputs": [
      {
       "output_type": "stream",
       "stream": "stdout",
       "text": [
        "Int64Index([0, 1], dtype='int64') \n",
        "Index([u'a', u'b', u'c'], dtype='object')\n"
       ]
      }
     ],
     "prompt_number": 165
    },
    {
     "cell_type": "code",
     "collapsed": false,
     "input": [
      "print new_df_a.index, \"\\n\", new_df_a.columns"
     ],
     "language": "python",
     "metadata": {},
     "outputs": [
      {
       "output_type": "stream",
       "stream": "stdout",
       "text": [
        "Int64Index([0, 1, 2], dtype='int64') \n",
        "Index([u'a', u'new_a'], dtype='object')\n"
       ]
      }
     ],
     "prompt_number": 166
    },
    {
     "cell_type": "code",
     "collapsed": false,
     "input": [
      "## Creating DataFrame with explicit index\n",
      "df_b = {'one' : [1., 2., 3., 4.],\n",
      "     'two' : [4., 3., 2., 1.]}\n",
      "pd.DataFrame(df_b)"
     ],
     "language": "python",
     "metadata": {},
     "outputs": [
      {
       "metadata": {},
       "output_type": "pyout",
       "prompt_number": 167,
       "text": [
        "   one  two\n",
        "0    1    4\n",
        "1    2    3\n",
        "2    3    2\n",
        "3    4    1"
       ]
      }
     ],
     "prompt_number": 167
    },
    {
     "cell_type": "code",
     "collapsed": false,
     "input": [
      "pd.DataFrame(df_b, index=[\"a\",6,\"b\",8])"
     ],
     "language": "python",
     "metadata": {},
     "outputs": [
      {
       "metadata": {},
       "output_type": "pyout",
       "prompt_number": 168,
       "text": [
        "   one  two\n",
        "a    1    4\n",
        "6    2    3\n",
        "b    3    2\n",
        "8    4    1"
       ]
      }
     ],
     "prompt_number": 168
    },
    {
     "cell_type": "heading",
     "level": 5,
     "metadata": {},
     "source": [
      "Missing Data Preview"
     ]
    },
    {
     "cell_type": "code",
     "collapsed": false,
     "input": [
      "## Numeric data will be NaN\n",
      "s = Series([1, 2, 3])\n",
      "s.loc[2] = None\n",
      "s"
     ],
     "language": "python",
     "metadata": {},
     "outputs": [
      {
       "metadata": {},
       "output_type": "pyout",
       "prompt_number": 169,
       "text": [
        "0     1\n",
        "1     2\n",
        "2   NaN\n",
        "dtype: float64"
       ]
      }
     ],
     "prompt_number": 169
    },
    {
     "cell_type": "code",
     "collapsed": false,
     "input": [
      "## Caution with wrong data\n",
      "## None is used since data in Series are strings\n",
      "s = Series([1, \"b\", \"c\",\"d\"])\n",
      "s.loc[0] = None\n",
      "s.loc[1] = np.nan\n",
      "s"
     ],
     "language": "python",
     "metadata": {},
     "outputs": [
      {
       "metadata": {},
       "output_type": "pyout",
       "prompt_number": 170,
       "text": [
        "0    None\n",
        "1     NaN\n",
        "2       c\n",
        "3       d\n",
        "dtype: object"
       ]
      }
     ],
     "prompt_number": 170
    },
    {
     "cell_type": "code",
     "collapsed": true,
     "input": [
      "a = np.nan\n",
      "b = None\n",
      "print \"a == b\", a == b\n",
      "print \"a == a\", a == a\n",
      "print \"b == b\", b == b"
     ],
     "language": "python",
     "metadata": {},
     "outputs": [
      {
       "output_type": "stream",
       "stream": "stdout",
       "text": [
        "a == b False\n",
        "a == a False\n",
        "b == b True\n"
       ]
      }
     ],
     "prompt_number": 171
    },
    {
     "cell_type": "heading",
     "level": 2,
     "metadata": {},
     "source": [
      "DataFrame selection, deletion, and operations"
     ]
    },
    {
     "cell_type": "code",
     "collapsed": false,
     "input": [
      "## DataFrame column selection & deletion\n",
      "s_a = Series(randn(1))\n",
      "s_b = Series(randn(1000))\n",
      "s_c = Series(randn(10))\n",
      "dict_of_series = {\"s_a\": s_a, \"s_b\": s_b, \"s_c\":s_c}\n",
      "df = pd.DataFrame(data=dict_of_series)"
     ],
     "language": "python",
     "metadata": {},
     "outputs": [],
     "prompt_number": 172
    },
    {
     "cell_type": "code",
     "collapsed": true,
     "input": [
      "## Select dataframe using column name\n",
      "df[\"s_c\"]"
     ],
     "language": "python",
     "metadata": {},
     "outputs": [
      {
       "metadata": {},
       "output_type": "pyout",
       "prompt_number": 173,
       "text": [
        "0    1.472041\n",
        "1   -1.057702\n",
        "2   -0.472294\n",
        "3    2.071986\n",
        "4   -0.087838\n",
        "5    1.225105\n",
        "6    0.276348\n",
        "7    0.823858\n",
        "...\n",
        "992   NaN\n",
        "993   NaN\n",
        "994   NaN\n",
        "995   NaN\n",
        "996   NaN\n",
        "997   NaN\n",
        "998   NaN\n",
        "999   NaN\n",
        "Name: s_c, Length: 1000, dtype: float64"
       ]
      }
     ],
     "prompt_number": 173
    },
    {
     "cell_type": "code",
     "collapsed": false,
     "input": [
      "## DF operation\n",
      "df[\"s_a_sqr\"] = df[\"s_c\"] ** 2"
     ],
     "language": "python",
     "metadata": {},
     "outputs": [],
     "prompt_number": 174
    },
    {
     "cell_type": "code",
     "collapsed": false,
     "input": [
      "## DF column deletion\n",
      "## delete s_c column\n",
      "del df[\"s_c\"]\n",
      "df"
     ],
     "language": "python",
     "metadata": {},
     "outputs": [
      {
       "metadata": {},
       "output_type": "pyout",
       "prompt_number": 175,
       "text": [
        "          s_a       s_b   s_a_sqr\n",
        "0   -0.386736  0.206099  2.166906\n",
        "1         NaN -1.051002  1.118734\n",
        "2         NaN  1.268362  0.223062\n",
        "3         NaN -1.696039  4.293126\n",
        "4         NaN  0.942790  0.007715\n",
        "5         NaN -0.968406  1.500882\n",
        "6         NaN -1.961160  0.076368\n",
        "7         NaN  1.170657  0.678741\n",
        "8         NaN -0.733581  0.062697\n",
        "9         NaN  0.214049  0.140737\n",
        "..        ...       ...       ...\n",
        "990       NaN -0.167113       NaN\n",
        "991       NaN  1.841372       NaN\n",
        "992       NaN -1.139197       NaN\n",
        "993       NaN -0.824686       NaN\n",
        "994       NaN  0.027553       NaN\n",
        "995       NaN -0.067442       NaN\n",
        "996       NaN -1.139746       NaN\n",
        "997       NaN -0.748176       NaN\n",
        "998       NaN -0.782071       NaN\n",
        "999       NaN -0.953109       NaN\n",
        "\n",
        "[1000 rows x 3 columns]"
       ]
      }
     ],
     "prompt_number": 175
    },
    {
     "cell_type": "code",
     "collapsed": true,
     "input": [
      "## inserting values will fill whole column\n",
      "df[\"foo\"] = \"bar\"\n",
      "df"
     ],
     "language": "python",
     "metadata": {},
     "outputs": [
      {
       "metadata": {},
       "output_type": "pyout",
       "prompt_number": 176,
       "text": [
        "          s_a       s_b   s_a_sqr  foo\n",
        "0   -0.386736  0.206099  2.166906  bar\n",
        "1         NaN -1.051002  1.118734  bar\n",
        "2         NaN  1.268362  0.223062  bar\n",
        "3         NaN -1.696039  4.293126  bar\n",
        "4         NaN  0.942790  0.007715  bar\n",
        "5         NaN -0.968406  1.500882  bar\n",
        "6         NaN -1.961160  0.076368  bar\n",
        "7         NaN  1.170657  0.678741  bar\n",
        "8         NaN -0.733581  0.062697  bar\n",
        "9         NaN  0.214049  0.140737  bar\n",
        "..        ...       ...       ...  ...\n",
        "990       NaN -0.167113       NaN  bar\n",
        "991       NaN  1.841372       NaN  bar\n",
        "992       NaN -1.139197       NaN  bar\n",
        "993       NaN -0.824686       NaN  bar\n",
        "994       NaN  0.027553       NaN  bar\n",
        "995       NaN -0.067442       NaN  bar\n",
        "996       NaN -1.139746       NaN  bar\n",
        "997       NaN -0.748176       NaN  bar\n",
        "998       NaN -0.782071       NaN  bar\n",
        "999       NaN -0.953109       NaN  bar\n",
        "\n",
        "[1000 rows x 4 columns]"
       ]
      }
     ],
     "prompt_number": 176
    },
    {
     "cell_type": "code",
     "collapsed": true,
     "input": [
      "## inserting at specific column\n",
      "df.insert(2,\"s_c\",df[\"s_b\"]+1)\n",
      "df"
     ],
     "language": "python",
     "metadata": {},
     "outputs": [
      {
       "metadata": {},
       "output_type": "pyout",
       "prompt_number": 177,
       "text": [
        "          s_a       s_b       s_c   s_a_sqr  foo\n",
        "0   -0.386736  0.206099  1.206099  2.166906  bar\n",
        "1         NaN -1.051002 -0.051002  1.118734  bar\n",
        "2         NaN  1.268362  2.268362  0.223062  bar\n",
        "3         NaN -1.696039 -0.696039  4.293126  bar\n",
        "4         NaN  0.942790  1.942790  0.007715  bar\n",
        "5         NaN -0.968406  0.031594  1.500882  bar\n",
        "6         NaN -1.961160 -0.961160  0.076368  bar\n",
        "7         NaN  1.170657  2.170657  0.678741  bar\n",
        "8         NaN -0.733581  0.266419  0.062697  bar\n",
        "9         NaN  0.214049  1.214049  0.140737  bar\n",
        "..        ...       ...       ...       ...  ...\n",
        "990       NaN -0.167113  0.832887       NaN  bar\n",
        "991       NaN  1.841372  2.841372       NaN  bar\n",
        "992       NaN -1.139197 -0.139197       NaN  bar\n",
        "993       NaN -0.824686  0.175314       NaN  bar\n",
        "994       NaN  0.027553  1.027553       NaN  bar\n",
        "995       NaN -0.067442  0.932558       NaN  bar\n",
        "996       NaN -1.139746 -0.139746       NaN  bar\n",
        "997       NaN -0.748176  0.251824       NaN  bar\n",
        "998       NaN -0.782071  0.217929       NaN  bar\n",
        "999       NaN -0.953109  0.046891       NaN  bar\n",
        "\n",
        "[1000 rows x 5 columns]"
       ]
      }
     ],
     "prompt_number": 177
    },
    {
     "cell_type": "code",
     "collapsed": true,
     "input": [
      "## inserting/slicing at specific DF index and col\n",
      "df.loc[1:3,\"s_a\"] = 2.0\n",
      "df"
     ],
     "language": "python",
     "metadata": {},
     "outputs": [
      {
       "metadata": {},
       "output_type": "pyout",
       "prompt_number": 187,
       "text": [
        "          s_a       s_b       s_c   s_a_sqr  foo\n",
        "0   -0.386736  0.206099  1.206099  2.166906  bar\n",
        "1    2.000000 -1.051002 -0.051002  1.118734  bar\n",
        "2    2.000000  1.268362  2.268362  0.223062  bar\n",
        "3    2.000000 -1.696039 -0.696039  4.293126  bar\n",
        "4         NaN  0.942790  1.942790  0.007715  bar\n",
        "5         NaN -0.968406  0.031594  1.500882  bar\n",
        "6         NaN -1.961160 -0.961160  0.076368  bar\n",
        "7         NaN  1.170657  2.170657  0.678741  bar\n",
        "8         NaN -0.733581  0.266419  0.062697  bar\n",
        "9         NaN  0.214049  1.214049  0.140737  bar\n",
        "..        ...       ...       ...       ...  ...\n",
        "990       NaN -0.167113  0.832887       NaN  bar\n",
        "991       NaN  1.841372  2.841372       NaN  bar\n",
        "992       NaN -1.139197 -0.139197       NaN  bar\n",
        "993       NaN -0.824686  0.175314       NaN  bar\n",
        "994       NaN  0.027553  1.027553       NaN  bar\n",
        "995       NaN -0.067442  0.932558       NaN  bar\n",
        "996       NaN -1.139746 -0.139746       NaN  bar\n",
        "997       NaN -0.748176  0.251824       NaN  bar\n",
        "998       NaN -0.782071  0.217929       NaN  bar\n",
        "999       NaN -0.953109  0.046891       NaN  bar\n",
        "\n",
        "[1000 rows x 5 columns]"
       ]
      }
     ],
     "prompt_number": 187
    },
    {
     "cell_type": "code",
     "collapsed": true,
     "input": [
      "## slicing rows/index\n",
      "df[1:5]"
     ],
     "language": "python",
     "metadata": {},
     "outputs": [
      {
       "metadata": {},
       "output_type": "pyout",
       "prompt_number": 185,
       "text": [
        "   s_a       s_b       s_c   s_a_sqr  foo\n",
        "1    2 -1.051002 -0.051002  1.118734  bar\n",
        "2    2  1.268362  2.268362  0.223062  bar\n",
        "3    2 -1.696039 -0.696039  4.293126  bar\n",
        "4  NaN  0.942790  1.942790  0.007715  bar"
       ]
      }
     ],
     "prompt_number": 185
    },
    {
     "cell_type": "code",
     "collapsed": false,
     "input": [
      "## slicing integer location at \n",
      "df.iloc[2]"
     ],
     "language": "python",
     "metadata": {},
     "outputs": [
      {
       "metadata": {},
       "output_type": "pyout",
       "prompt_number": 188,
       "text": [
        "s_a                2\n",
        "s_b         1.268362\n",
        "s_c         2.268362\n",
        "s_a_sqr    0.2230621\n",
        "foo              bar\n",
        "Name: 2, dtype: object"
       ]
      }
     ],
     "prompt_number": 188
    }
   ],
   "metadata": {}
  }
 ]
}