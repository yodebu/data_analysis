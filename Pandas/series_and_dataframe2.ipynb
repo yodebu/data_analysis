{
 "metadata": {
  "name": "",
  "signature": "sha256:8cfc82d91a3b0fbb76c5930f2ff89962a262657227abe16b75a99dec4d2a2491"
 },
 "nbformat": 3,
 "nbformat_minor": 0,
 "worksheets": [
  {
   "cells": [
    {
     "cell_type": "heading",
     "level": 2,
     "metadata": {},
     "source": [
      "Data alignment and arithmetic"
     ]
    },
    {
     "cell_type": "code",
     "collapsed": false,
     "input": [
      "## Import conventions for Pandas and Numpy \n",
      "import pandas as pd\n",
      "import numpy as np\n",
      "\n",
      "DataFrame = pd.DataFrame\n",
      "Series = pd.Series\n",
      "randn = np.random.rand"
     ],
     "language": "python",
     "metadata": {},
     "outputs": [],
     "prompt_number": 1
    },
    {
     "cell_type": "code",
     "collapsed": false,
     "input": [
      "## Some Pandas options\n",
      "pd.set_option(\"html\",False) ## If you don't want html outputs\n",
      "pd.set_option(\"max_columns\",30)\n",
      "pd.set_option(\"max_rows\",20)"
     ],
     "language": "python",
     "metadata": {},
     "outputs": [],
     "prompt_number": 5
    },
    {
     "cell_type": "code",
     "collapsed": false,
     "input": [
      "s_a = Series(randn(1))\n",
      "s_b = Series(randn(1000))\n",
      "s_c = Series(randn(10))\n",
      "dict_of_series = {\"s_a\": s_a, \"s_b\": s_b, \"s_c\":s_c}\n",
      "df = pd.DataFrame(data=dict_of_series)\n",
      "df"
     ],
     "language": "python",
     "metadata": {},
     "outputs": [
      {
       "metadata": {},
       "output_type": "pyout",
       "prompt_number": 16,
       "text": [
        "          s_a       s_b       s_c\n",
        "0    0.226648  0.493795  0.789585\n",
        "1         NaN  0.976315  0.101578\n",
        "2         NaN  0.719249  0.400142\n",
        "3         NaN  0.296403  0.228900\n",
        "4         NaN  0.894493  0.555191\n",
        "5         NaN  0.890456  0.958393\n",
        "6         NaN  0.456335  0.453475\n",
        "7         NaN  0.802369  0.836331\n",
        "8         NaN  0.637068  0.555433\n",
        "9         NaN  0.293738  0.374988\n",
        "..        ...       ...       ...\n",
        "990       NaN  0.936241       NaN\n",
        "991       NaN  0.084859       NaN\n",
        "992       NaN  0.588777       NaN\n",
        "993       NaN  0.093366       NaN\n",
        "994       NaN  0.242771       NaN\n",
        "995       NaN  0.435429       NaN\n",
        "996       NaN  0.125749       NaN\n",
        "997       NaN  0.405492       NaN\n",
        "998       NaN  0.515987       NaN\n",
        "999       NaN  0.855956       NaN\n",
        "\n",
        "[1000 rows x 3 columns]"
       ]
      }
     ],
     "prompt_number": 16
    },
    {
     "cell_type": "code",
     "collapsed": false,
     "input": [
      "df2 = df + df\n",
      "df2"
     ],
     "language": "python",
     "metadata": {},
     "outputs": [
      {
       "metadata": {},
       "output_type": "pyout",
       "prompt_number": 15,
       "text": [
        "          s_a       s_b       s_c\n",
        "0    3.040344  2.944620  3.569139\n",
        "1         NaN  3.029218  2.343598\n",
        "2         NaN  0.314387  3.742532\n",
        "3         NaN  0.083925  0.336793\n",
        "4         NaN  2.152914  3.245915\n",
        "5         NaN  1.651391  0.279166\n",
        "6         NaN  1.329144  0.403343\n",
        "7         NaN  0.262133  0.385272\n",
        "8         NaN  3.939482  2.250452\n",
        "9         NaN  1.163081  2.080864\n",
        "..        ...       ...       ...\n",
        "990       NaN  0.938130       NaN\n",
        "991       NaN  3.902770       NaN\n",
        "992       NaN  3.514086       NaN\n",
        "993       NaN  0.448659       NaN\n",
        "994       NaN  3.418627       NaN\n",
        "995       NaN  3.535327       NaN\n",
        "996       NaN  3.543451       NaN\n",
        "997       NaN  2.437656       NaN\n",
        "998       NaN  0.602542       NaN\n",
        "999       NaN  2.456918       NaN\n",
        "\n",
        "[1000 rows x 3 columns]"
       ]
      }
     ],
     "prompt_number": 15
    },
    {
     "cell_type": "code",
     "collapsed": false,
     "input": [
      "df3 = df + df2**2\n",
      "df3[\"s_a\"] = False\n",
      "df3"
     ],
     "language": "python",
     "metadata": {},
     "outputs": [
      {
       "metadata": {},
       "output_type": "pyout",
       "prompt_number": 31,
       "text": [
        "       s_a        s_b        s_c\n",
        "0    False   9.164581  13.528337\n",
        "1    False  10.152478   5.594028\n",
        "2    False   0.818088  14.406686\n",
        "3    False   0.303446   0.342329\n",
        "4    False   5.529532  11.091153\n",
        "5    False   3.617549   1.036326\n",
        "6    False   2.222959   0.616160\n",
        "7    False   0.871082   0.984765\n",
        "8    False  16.156587   5.619966\n",
        "9    False   1.646497   4.704981\n",
        "..     ...        ...        ...\n",
        "990  False   1.816328        NaN\n",
        "991  False  15.316475        NaN\n",
        "992  False  12.937581        NaN\n",
        "993  False   0.294661        NaN\n",
        "994  False  11.929780        NaN\n",
        "995  False  12.933969        NaN\n",
        "996  False  12.681794        NaN\n",
        "997  False   6.347660        NaN\n",
        "998  False   0.879044        NaN\n",
        "999  False   6.892400        NaN\n",
        "\n",
        "[1000 rows x 3 columns]"
       ]
      }
     ],
     "prompt_number": 31
    },
    {
     "cell_type": "heading",
     "level": 2,
     "metadata": {},
     "source": [
      "Transpose function"
     ]
    },
    {
     "cell_type": "code",
     "collapsed": false,
     "input": [
      "df_Transposed = df.T\n",
      "df_Transposed"
     ],
     "language": "python",
     "metadata": {},
     "outputs": [
      {
       "metadata": {},
       "output_type": "pyout",
       "prompt_number": 32,
       "text": [
        "          0         1         2         3         4         5         6    \\\n",
        "s_a  0.226648       NaN       NaN       NaN       NaN       NaN       NaN   \n",
        "s_b  0.493795  0.976315  0.719249  0.296403  0.894493  0.890456  0.456335   \n",
        "s_c  0.789585  0.101578  0.400142  0.228900  0.555191  0.958393  0.453475   \n",
        "\n",
        "          7         8         9         10        11        12        13   \\\n",
        "s_a       NaN       NaN       NaN       NaN       NaN       NaN       NaN   \n",
        "s_b  0.802369  0.637068  0.293738  0.052149  0.308997  0.763701  0.720492   \n",
        "s_c  0.836331  0.555433  0.374988       NaN       NaN       NaN       NaN   \n",
        "\n",
        "          14     ...          985       986       987      988       989  \\\n",
        "s_a       NaN    ...          NaN       NaN       NaN      NaN       NaN   \n",
        "s_b  0.697659    ...     0.950454  0.306502  0.228425  0.03391  0.449516   \n",
        "s_c       NaN    ...          NaN       NaN       NaN      NaN       NaN   \n",
        "\n",
        "          990       991       992       993       994       995       996  \\\n",
        "s_a       NaN       NaN       NaN       NaN       NaN       NaN       NaN   \n",
        "s_b  0.936241  0.084859  0.588777  0.093366  0.242771  0.435429  0.125749   \n",
        "s_c       NaN       NaN       NaN       NaN       NaN       NaN       NaN   \n",
        "\n",
        "          997       998       999  \n",
        "s_a       NaN       NaN       NaN  \n",
        "s_b  0.405492  0.515987  0.855956  \n",
        "s_c       NaN       NaN       NaN  \n",
        "\n",
        "[3 rows x 1000 columns]"
       ]
      }
     ],
     "prompt_number": 32
    },
    {
     "cell_type": "code",
     "collapsed": false,
     "input": [
      "## Various NumPy operations can be used with DataFrame\n",
      "## provided data within are numeric\n",
      "np.exp(df2)"
     ],
     "language": "python",
     "metadata": {},
     "outputs": [
      {
       "metadata": {},
       "output_type": "pyout",
       "prompt_number": 38,
       "text": [
        "          s_a        s_b        s_c\n",
        "0    20.91244  19.003437  35.486022\n",
        "1         NaN  20.681057  10.418652\n",
        "2         NaN   1.369419  42.204708\n",
        "3         NaN   1.087548   1.400449\n",
        "4         NaN   8.609911  25.685195\n",
        "5         NaN   5.214229   1.322027\n",
        "6         NaN   3.777808   1.496820\n",
        "7         NaN   1.299699   1.470014\n",
        "8         NaN  51.391975   9.492022\n",
        "9         NaN   3.199778   8.011386\n",
        "..        ...        ...        ...\n",
        "990       NaN   2.555198        NaN\n",
        "991       NaN  49.539499        NaN\n",
        "992       NaN  33.585231        NaN\n",
        "993       NaN   1.566210        NaN\n",
        "994       NaN  30.527462        NaN\n",
        "995       NaN  34.306245        NaN\n",
        "996       NaN  34.586067        NaN\n",
        "997       NaN  11.446183        NaN\n",
        "998       NaN   1.826756        NaN\n",
        "999       NaN  11.668789        NaN\n",
        "\n",
        "[1000 rows x 3 columns]"
       ]
      }
     ],
     "prompt_number": 38
    },
    {
     "cell_type": "code",
     "collapsed": true,
     "input": [
      "np.log10(df3) ## Will raise an error because it \n",
      "              ## has non numerical values"
     ],
     "language": "python",
     "metadata": {},
     "outputs": [
      {
       "ename": "AttributeError",
       "evalue": "log10",
       "output_type": "pyerr",
       "traceback": [
        "\u001b[0;31m---------------------------------------------------------------------------\u001b[0m\n\u001b[0;31mAttributeError\u001b[0m                            Traceback (most recent call last)",
        "\u001b[0;32m<ipython-input-35-1a7f8a55d381>\u001b[0m in \u001b[0;36m<module>\u001b[0;34m()\u001b[0m\n\u001b[0;32m----> 1\u001b[0;31m \u001b[0mnp\u001b[0m\u001b[0;34m.\u001b[0m\u001b[0mlog10\u001b[0m\u001b[0;34m(\u001b[0m\u001b[0mdf3\u001b[0m\u001b[0;34m)\u001b[0m \u001b[0;31m## error\u001b[0m\u001b[0;34m\u001b[0m\u001b[0m\n\u001b[0m",
        "\u001b[0;31mAttributeError\u001b[0m: log10"
       ]
      }
     ],
     "prompt_number": 35
    },
    {
     "cell_type": "code",
     "collapsed": false,
     "input": [
      "## dot multiplication\n",
      "df2.T.dot(df2)"
     ],
     "language": "python",
     "metadata": {},
     "outputs": [
      {
       "metadata": {},
       "output_type": "pyout",
       "prompt_number": 53,
       "text": [
        "     s_a          s_b  s_c\n",
        "s_a  NaN          NaN  NaN\n",
        "s_b  NaN  5762.646245  NaN\n",
        "s_c  NaN          NaN  NaN"
       ]
      }
     ],
     "prompt_number": 53
    },
    {
     "cell_type": "heading",
     "level": 2,
     "metadata": {},
     "source": [
      "Console display"
     ]
    },
    {
     "cell_type": "code",
     "collapsed": false,
     "input": [],
     "language": "python",
     "metadata": {},
     "outputs": []
    }
   ],
   "metadata": {}
  }
 ]
}