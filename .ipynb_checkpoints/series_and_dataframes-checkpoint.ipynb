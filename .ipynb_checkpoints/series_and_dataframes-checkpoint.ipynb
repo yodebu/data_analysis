{
 "metadata": {
  "name": "",
  "signature": "sha256:785828b2bf9ec4710a3ba61cf5d14ff6416bb3b390958cb48e56f66c17b25f4c"
 },
 "nbformat": 3,
 "nbformat_minor": 0,
 "worksheets": [
  {
   "cells": [
    {
     "cell_type": "code",
     "collapsed": true,
     "input": [
      "## Just my website\n",
      "from IPython.core.display import HTML\n",
      "HTML(\"<iframe src=http://gjvivar.github.io width=500 height=300></iframe>\")"
     ],
     "language": "python",
     "metadata": {},
     "outputs": [
      {
       "html": [
        "<iframe src=http://gjvivar.github.io width=500 height=300></iframe>"
       ],
       "metadata": {},
       "output_type": "pyout",
       "prompt_number": 4,
       "text": [
        "<IPython.core.display.HTML at 0x104743150>"
       ]
      }
     ],
     "prompt_number": 4
    },
    {
     "cell_type": "heading",
     "level": 1,
     "metadata": {},
     "source": [
      "Series"
     ]
    },
    {
     "cell_type": "code",
     "collapsed": true,
     "input": [
      "## Import conventions for Pandas and Numpy \n",
      "import pandas as pd\n",
      "import numpy as np "
     ],
     "language": "python",
     "metadata": {},
     "outputs": [],
     "prompt_number": 5
    },
    {
     "cell_type": "code",
     "collapsed": false,
     "input": [
      "## Some Pandas options\n",
      "pd.set_option(\"html\",False) ## If you don't want html outputs\n",
      "pd.set_option(\"max_columns\",30)\n",
      "pd.set_option(\"max_rows\",20)"
     ],
     "language": "python",
     "metadata": {},
     "outputs": [],
     "prompt_number": 6
    },
    {
     "cell_type": "code",
     "collapsed": false,
     "input": [
      "## Series\n",
      "series_a = pd.Series([11,22,33,44])\n",
      "series_a"
     ],
     "language": "python",
     "metadata": {},
     "outputs": [
      {
       "metadata": {},
       "output_type": "pyout",
       "prompt_number": 7,
       "text": [
        "0    11\n",
        "1    22\n",
        "2    33\n",
        "3    44\n",
        "dtype: int64"
       ]
      }
     ],
     "prompt_number": 7
    },
    {
     "cell_type": "code",
     "collapsed": false,
     "input": [
      "## If data is dict\n",
      "d = {'a' : 0., 'b' : 1., 'c' : 2.}\n",
      "pd.Series(d)"
     ],
     "language": "python",
     "metadata": {},
     "outputs": [
      {
       "metadata": {},
       "output_type": "pyout",
       "prompt_number": 8,
       "text": [
        "a    0\n",
        "b    1\n",
        "c    2\n",
        "dtype: float64"
       ]
      }
     ],
     "prompt_number": 8
    },
    {
     "cell_type": "code",
     "collapsed": true,
     "input": [
      "## Series with explicit index\n",
      "## Explicit index should be equals the data\n",
      "randn = np.random.randn   ## Random numbers and Normal distribution\n",
      "series_b = pd.Series(randn(5), index=['a', 'b', 'c', 'd', 'e'])\n",
      "series_b"
     ],
     "language": "python",
     "metadata": {},
     "outputs": [
      {
       "metadata": {},
       "output_type": "pyout",
       "prompt_number": 9,
       "text": [
        "a   -0.222985\n",
        "b    0.247244\n",
        "c    0.715668\n",
        "d   -1.199799\n",
        "e   -1.809910\n",
        "dtype: float64"
       ]
      }
     ],
     "prompt_number": 9
    },
    {
     "cell_type": "code",
     "collapsed": false,
     "input": [
      "## Check values\n",
      "series_a.values"
     ],
     "language": "python",
     "metadata": {},
     "outputs": [
      {
       "metadata": {},
       "output_type": "pyout",
       "prompt_number": 10,
       "text": [
        "array([11, 22, 33, 44])"
       ]
      }
     ],
     "prompt_number": 10
    },
    {
     "cell_type": "code",
     "collapsed": false,
     "input": [
      "## Check index\n",
      "print series_a.index\n",
      "print series_b.index"
     ],
     "language": "python",
     "metadata": {},
     "outputs": [
      {
       "output_type": "stream",
       "stream": "stdout",
       "text": [
        "Int64Index([0, 1, 2, 3], dtype='int64')\n",
        "Index([u'a', u'b', u'c', u'd', u'e'], dtype='object')\n"
       ]
      }
     ],
     "prompt_number": 11
    },
    {
     "cell_type": "code",
     "collapsed": false,
     "input": [
      "## Indexing\n",
      "series_b[0] \n",
      "# series_b[\"a\"] ## or this way "
     ],
     "language": "python",
     "metadata": {},
     "outputs": [
      {
       "metadata": {},
       "output_type": "pyout",
       "prompt_number": 12,
       "text": [
        "-0.22298462267250582"
       ]
      }
     ],
     "prompt_number": 12
    },
    {
     "cell_type": "code",
     "collapsed": false,
     "input": [
      "series_a[1:]"
     ],
     "language": "python",
     "metadata": {},
     "outputs": [
      {
       "metadata": {},
       "output_type": "pyout",
       "prompt_number": 13,
       "text": [
        "1    22\n",
        "2    33\n",
        "3    44\n",
        "dtype: int64"
       ]
      }
     ],
     "prompt_number": 13
    },
    {
     "cell_type": "code",
     "collapsed": false,
     "input": [
      "series_a[[1,3]]"
     ],
     "language": "python",
     "metadata": {},
     "outputs": [
      {
       "metadata": {},
       "output_type": "pyout",
       "prompt_number": 14,
       "text": [
        "1    22\n",
        "3    44\n",
        "dtype: int64"
       ]
      }
     ],
     "prompt_number": 14
    },
    {
     "cell_type": "code",
     "collapsed": true,
     "input": [
      "series_a_log10 = np.log10(series_a)\n",
      "series_a_log10"
     ],
     "language": "python",
     "metadata": {},
     "outputs": [
      {
       "metadata": {},
       "output_type": "pyout",
       "prompt_number": 15,
       "text": [
        "0    1.041393\n",
        "1    1.342423\n",
        "2    1.518514\n",
        "3    1.643453\n",
        "dtype: float64"
       ]
      }
     ],
     "prompt_number": 15
    },
    {
     "cell_type": "code",
     "collapsed": true,
     "input": [
      "## Vectorized operations\n",
      "series_a + series_a"
     ],
     "language": "python",
     "metadata": {},
     "outputs": [
      {
       "metadata": {},
       "output_type": "pyout",
       "prompt_number": 16,
       "text": [
        "0    22\n",
        "1    44\n",
        "2    66\n",
        "3    88\n",
        "dtype: int64"
       ]
      }
     ],
     "prompt_number": 16
    },
    {
     "cell_type": "code",
     "collapsed": true,
     "input": [
      "## caution when adding different\n",
      "## index and data types\n",
      "series_a + series_b"
     ],
     "language": "python",
     "metadata": {},
     "outputs": [
      {
       "metadata": {},
       "output_type": "pyout",
       "prompt_number": 17,
       "text": [
        "0   NaN\n",
        "1   NaN\n",
        "2   NaN\n",
        "3   NaN\n",
        "a   NaN\n",
        "b   NaN\n",
        "c   NaN\n",
        "d   NaN\n",
        "e   NaN\n",
        "dtype: float64"
       ]
      }
     ],
     "prompt_number": 17
    },
    {
     "cell_type": "code",
     "collapsed": true,
     "input": [
      "## series operations are aligned automatically\n",
      "## based on label\n",
      "series_a[0:] + series_a[:3]"
     ],
     "language": "python",
     "metadata": {},
     "outputs": [
      {
       "metadata": {},
       "output_type": "pyout",
       "prompt_number": 18,
       "text": [
        "0    22\n",
        "1    44\n",
        "2    66\n",
        "3   NaN\n",
        "dtype: float64"
       ]
      }
     ],
     "prompt_number": 18
    },
    {
     "cell_type": "code",
     "collapsed": true,
     "input": [
      "## name attribute for series\n",
      "series_a.name = \"just_numbers\""
     ],
     "language": "python",
     "metadata": {},
     "outputs": [],
     "prompt_number": 19
    },
    {
     "cell_type": "heading",
     "level": 1,
     "metadata": {},
     "source": [
      "DataFrame"
     ]
    },
    {
     "cell_type": "code",
     "collapsed": true,
     "input": [
      "## List to DataFrame\n",
      "list_a = [(1,2,3,False),(11,22,33,44,True)]\n",
      "pd.DataFrame(list_a)"
     ],
     "language": "python",
     "metadata": {},
     "outputs": [
      {
       "metadata": {},
       "output_type": "pyout",
       "prompt_number": 78,
       "text": [
        "    0   1   2      3     4\n",
        "0   1   2   3  False  None\n",
        "1  11  22  33     44  True"
       ]
      }
     ],
     "prompt_number": 78
    },
    {
     "cell_type": "code",
     "collapsed": false,
     "input": [
      "## List of dicts to DF\n",
      "list_d = [{'a': 1, 'b': 2}, {'a': 5, 'b': 10, 'c': 20}]\n",
      "pd.DataFrame(list_d)"
     ],
     "language": "python",
     "metadata": {},
     "outputs": [
      {
       "metadata": {},
       "output_type": "pyout",
       "prompt_number": 73,
       "text": [
        "   a   b   c\n",
        "0  1   2 NaN\n",
        "1  5  10  20"
       ]
      }
     ],
     "prompt_number": 73
    },
    {
     "cell_type": "code",
     "collapsed": true,
     "input": [
      "## Dict of list to DataFrame\n",
      "dict_a = {'a' : [1,10], 'b' : [2,20], 'c' : [3,30]}\n",
      "pd.DataFrame(dict_a)"
     ],
     "language": "python",
     "metadata": {},
     "outputs": [
      {
       "metadata": {},
       "output_type": "pyout",
       "prompt_number": 36,
       "text": [
        "    a   b   c\n",
        "0   1   2   3\n",
        "1  10  20  30"
       ]
      }
     ],
     "prompt_number": 36
    },
    {
     "cell_type": "code",
     "collapsed": true,
     "input": [
      "## Alternate constructors\n",
      "## .from_dict(should pass a dict of dict)\n",
      "dict_a = {'a' : [1,10], 'b' : [2,20], 'c' : [3,30]}\n",
      "pd.DataFrame.from_records(dict_a, index=\"c\")"
     ],
     "language": "python",
     "metadata": {},
     "outputs": [
      {
       "metadata": {},
       "output_type": "pyout",
       "prompt_number": 86,
       "text": [
        "     a   b\n",
        "c         \n",
        "3    1   2\n",
        "30  10  20"
       ]
      }
     ],
     "prompt_number": 86
    },
    {
     "cell_type": "code",
     "collapsed": true,
     "input": [
      "## Dict of Series to DataFrame\n",
      "Series = pd.Series\n",
      "series_dict = {'a' : Series([1,10]), \n",
      "               'b' : Series([2,20]), 'c' : Series([3])}\n",
      "df_a = pd.DataFrame(series_dict)\n",
      "df_a"
     ],
     "language": "python",
     "metadata": {},
     "outputs": [
      {
       "metadata": {},
       "output_type": "pyout",
       "prompt_number": 22,
       "text": [
        "    a   b   c\n",
        "0   1   2   3\n",
        "1  10  20 NaN"
       ]
      }
     ],
     "prompt_number": 22
    },
    {
     "cell_type": "code",
     "collapsed": true,
     "input": [
      "## Indexing 2nd elem of b column\n",
      "df_a[\"b\"][1]"
     ],
     "language": "python",
     "metadata": {},
     "outputs": [
      {
       "metadata": {},
       "output_type": "pyout",
       "prompt_number": 23,
       "text": [
        "20"
       ]
      }
     ],
     "prompt_number": 23
    },
    {
     "cell_type": "code",
     "collapsed": true,
     "input": [
      "## New DataFrame using existing DataFrame\n",
      "## Selecting participants 1 and 2 using index\n",
      "## Selecting \"a\" columns and missing column \"new_a\"\n",
      "\n",
      "new_df_a = pd.DataFrame(df_a, index=[0,1,2], columns=[\"a\",\"new_a\"])\n",
      "new_df_a"
     ],
     "language": "python",
     "metadata": {},
     "outputs": [
      {
       "metadata": {},
       "output_type": "pyout",
       "prompt_number": 24,
       "text": [
        "    a  new_a\n",
        "0   1    NaN\n",
        "1  10    NaN\n",
        "2 NaN    NaN"
       ]
      }
     ],
     "prompt_number": 24
    },
    {
     "cell_type": "code",
     "collapsed": true,
     "input": [
      "## Checking index and column\n",
      "print df_a.index, \"\\n\", df_a.columns"
     ],
     "language": "python",
     "metadata": {},
     "outputs": [
      {
       "output_type": "stream",
       "stream": "stdout",
       "text": [
        "Int64Index([0, 1], dtype='int64') \n",
        "Index([u'a', u'b', u'c'], dtype='object')\n"
       ]
      }
     ],
     "prompt_number": 25
    },
    {
     "cell_type": "code",
     "collapsed": true,
     "input": [
      "print new_df_a.index, \"\\n\", new_df_a.columns"
     ],
     "language": "python",
     "metadata": {},
     "outputs": [
      {
       "output_type": "stream",
       "stream": "stdout",
       "text": [
        "Int64Index([0, 1, 2], dtype='int64') \n",
        "Index([u'a', u'new_a'], dtype='object')\n"
       ]
      }
     ],
     "prompt_number": 26
    },
    {
     "cell_type": "code",
     "collapsed": true,
     "input": [
      "## Creating DataFrame with explicit index\n",
      "df_b = {'one' : [1., 2., 3., 4.],\n",
      "     'two' : [4., 3., 2., 1.]}\n",
      "pd.DataFrame(df_b)"
     ],
     "language": "python",
     "metadata": {},
     "outputs": [
      {
       "metadata": {},
       "output_type": "pyout",
       "prompt_number": 27,
       "text": [
        "   one  two\n",
        "0    1    4\n",
        "1    2    3\n",
        "2    3    2\n",
        "3    4    1"
       ]
      }
     ],
     "prompt_number": 27
    },
    {
     "cell_type": "code",
     "collapsed": true,
     "input": [
      "pd.DataFrame(df_b, index=[\"a\",6,\"b\",8])"
     ],
     "language": "python",
     "metadata": {},
     "outputs": [
      {
       "metadata": {},
       "output_type": "pyout",
       "prompt_number": 28,
       "text": [
        "   one  two\n",
        "a    1    4\n",
        "6    2    3\n",
        "b    3    2\n",
        "8    4    1"
       ]
      }
     ],
     "prompt_number": 28
    },
    {
     "cell_type": "heading",
     "level": 1,
     "metadata": {},
     "source": [
      "Missing Data Preview"
     ]
    },
    {
     "cell_type": "code",
     "collapsed": true,
     "input": [
      "## Numeric data will be NaN\n",
      "s = Series([1, 2, 3])\n",
      "s.loc[2] = None\n",
      "s"
     ],
     "language": "python",
     "metadata": {},
     "outputs": [
      {
       "metadata": {},
       "output_type": "pyout",
       "prompt_number": 29,
       "text": [
        "0     1\n",
        "1     2\n",
        "2   NaN\n",
        "dtype: float64"
       ]
      }
     ],
     "prompt_number": 29
    },
    {
     "cell_type": "code",
     "collapsed": true,
     "input": [
      "## Caution with wrong data\n",
      "## None is used since data in Series are strings\n",
      "s = Series([1, \"b\", \"c\",\"d\"])\n",
      "s.loc[0] = None\n",
      "s.loc[1] = np.nan\n",
      "s"
     ],
     "language": "python",
     "metadata": {},
     "outputs": [
      {
       "metadata": {},
       "output_type": "pyout",
       "prompt_number": 34,
       "text": [
        "0    None\n",
        "1     NaN\n",
        "2       c\n",
        "3       d\n",
        "dtype: object"
       ]
      }
     ],
     "prompt_number": 34
    },
    {
     "cell_type": "code",
     "collapsed": false,
     "input": [
      "a = np.nan\n",
      "b = None\n",
      "print \"a == b\", a == b\n",
      "print \"a == a\", a == a\n",
      "print \"b == b\", b == b"
     ],
     "language": "python",
     "metadata": {},
     "outputs": [
      {
       "output_type": "stream",
       "stream": "stdout",
       "text": [
        "a == b False\n",
        "a == a False\n",
        "b == b True\n"
       ]
      }
     ],
     "prompt_number": 72
    },
    {
     "cell_type": "code",
     "collapsed": true,
     "input": [
      "## DataFrame column selection & deletion\n",
      "s_a = Series(randn(1000))\n",
      "s_b = Series(randn(100))\n",
      "dict_of_series = {\"s_a\": s_a, \"s_b\": s_b}\n",
      "df = pd.DataFrame(data=dict_of_series)"
     ],
     "language": "python",
     "metadata": {},
     "outputs": [],
     "prompt_number": 104
    },
    {
     "cell_type": "code",
     "collapsed": false,
     "input": [
      "df"
     ],
     "language": "python",
     "metadata": {},
     "outputs": [
      {
       "metadata": {},
       "output_type": "pyout",
       "prompt_number": 105,
       "text": [
        "          s_a       s_b\n",
        "0   -0.451284  0.650906\n",
        "1   -0.147772 -0.270375\n",
        "2   -0.466290  1.872088\n",
        "3   -0.613517  1.409045\n",
        "4   -1.221889  2.088180\n",
        "5   -0.085467 -0.910484\n",
        "6   -0.483707 -0.540970\n",
        "7   -1.224850 -0.916342\n",
        "8    1.261900 -0.638981\n",
        "9   -0.553379  1.330246\n",
        "..        ...       ...\n",
        "990  0.022075       NaN\n",
        "991 -0.737054       NaN\n",
        "992 -1.518022       NaN\n",
        "993  0.140170       NaN\n",
        "994 -0.273406       NaN\n",
        "995 -0.370939       NaN\n",
        "996 -0.525217       NaN\n",
        "997  0.372900       NaN\n",
        "998  0.255284       NaN\n",
        "999 -0.232449       NaN\n",
        "\n",
        "[1000 rows x 2 columns]"
       ]
      }
     ],
     "prompt_number": 105
    },
    {
     "cell_type": "code",
     "collapsed": false,
     "input": [],
     "language": "python",
     "metadata": {},
     "outputs": []
    }
   ],
   "metadata": {}
  }
 ]
}