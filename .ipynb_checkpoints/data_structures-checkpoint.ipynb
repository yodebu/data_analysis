{
 "metadata": {
  "name": "",
  "signature": "sha256:a5bf71514173ca2e6d43fd6babcaf55c241dca1963f2a908f1ee30d99c4ea648"
 },
 "nbformat": 3,
 "nbformat_minor": 0,
 "worksheets": [
  {
   "cells": [
    {
     "cell_type": "code",
     "collapsed": false,
     "input": [
      "## Just my website\n",
      "from IPython.core.display import HTML\n",
      "HTML(\"<iframe src=http://gjvivar.github.io width=500 height=300></iframe>\")\n",
      "## Sorry, I'm lazy to use headings so I'll\n",
      "## just use the hash character."
     ],
     "language": "python",
     "metadata": {},
     "outputs": []
    },
    {
     "cell_type": "code",
     "collapsed": false,
     "input": [
      "## Import conventions for Pandas and Numpy \n",
      "import pandas as pd\n",
      "import numpy as np "
     ],
     "language": "python",
     "metadata": {},
     "outputs": [],
     "prompt_number": 12
    },
    {
     "cell_type": "code",
     "collapsed": true,
     "input": [
      "## Some Pandas options\n",
      "pd.set_option(\"html\",False) ## If you don't want html outputs\n",
      "pd.set_option(\"max_columns\",30)\n",
      "pd.set_option(\"max_rows\",20)"
     ],
     "language": "python",
     "metadata": {},
     "outputs": [],
     "prompt_number": 13
    },
    {
     "cell_type": "code",
     "collapsed": true,
     "input": [
      "## Series\n",
      "series_a = pd.Series([11,22,33,44])\n",
      "series_a"
     ],
     "language": "python",
     "metadata": {},
     "outputs": [
      {
       "metadata": {},
       "output_type": "pyout",
       "prompt_number": 19,
       "text": [
        "0    11\n",
        "1    22\n",
        "2    33\n",
        "3    44\n",
        "dtype: int64"
       ]
      }
     ],
     "prompt_number": 19
    },
    {
     "cell_type": "code",
     "collapsed": true,
     "input": [
      "## If data is dict\n",
      "d = {'a' : 0., 'b' : 1., 'c' : 2.}\n",
      "pd.Series(d)"
     ],
     "language": "python",
     "metadata": {},
     "outputs": [
      {
       "metadata": {},
       "output_type": "pyout",
       "prompt_number": 48,
       "text": [
        "a    0\n",
        "b    1\n",
        "c    2\n",
        "dtype: float64"
       ]
      }
     ],
     "prompt_number": 48
    },
    {
     "cell_type": "code",
     "collapsed": false,
     "input": [
      "## Series with explicit index\n",
      "## Explicit index should be equals the data\n",
      "randn = np.random.randn   ## Random numbers and Normal distribution\n",
      "series_b = pd.Series(randn(5), index=['a', 'b', 'c', 'd', 'e'])\n",
      "series_b"
     ],
     "language": "python",
     "metadata": {},
     "outputs": [
      {
       "metadata": {},
       "output_type": "pyout",
       "prompt_number": 40,
       "text": [
        "a   -0.684697\n",
        "b   -0.751807\n",
        "c    0.066843\n",
        "d   -0.190873\n",
        "e   -1.847555\n",
        "dtype: float64"
       ]
      }
     ],
     "prompt_number": 40
    },
    {
     "cell_type": "code",
     "collapsed": true,
     "input": [
      "## Check values\n",
      "series_a.values"
     ],
     "language": "python",
     "metadata": {},
     "outputs": [
      {
       "metadata": {},
       "output_type": "pyout",
       "prompt_number": 17,
       "text": [
        "array([11, 22, 33, 44])"
       ]
      }
     ],
     "prompt_number": 17
    },
    {
     "cell_type": "code",
     "collapsed": true,
     "input": [
      "## Check index\n",
      "print series_a.index\n",
      "print series_b.index"
     ],
     "language": "python",
     "metadata": {},
     "outputs": [
      {
       "output_type": "stream",
       "stream": "stdout",
       "text": [
        "Int64Index([0, 1, 2, 3], dtype='int64')\n",
        "Index([u'a', u'b', u'c', u'd', u'e'], dtype='object')\n"
       ]
      }
     ],
     "prompt_number": 33
    },
    {
     "cell_type": "code",
     "collapsed": true,
     "input": [
      "## Indexing\n",
      "series_b[0] \n",
      "# series_b[\"a\"] ## or this way "
     ],
     "language": "python",
     "metadata": {},
     "outputs": [
      {
       "metadata": {},
       "output_type": "pyout",
       "prompt_number": 44,
       "text": [
        "-0.684697443131697"
       ]
      }
     ],
     "prompt_number": 44
    },
    {
     "cell_type": "code",
     "collapsed": true,
     "input": [
      "series_a[1:]"
     ],
     "language": "python",
     "metadata": {},
     "outputs": [
      {
       "metadata": {},
       "output_type": "pyout",
       "prompt_number": 60,
       "text": [
        "1    22\n",
        "2    33\n",
        "3    44\n",
        "dtype: int64"
       ]
      }
     ],
     "prompt_number": 60
    },
    {
     "cell_type": "code",
     "collapsed": true,
     "input": [
      "series_a[[1,3]]"
     ],
     "language": "python",
     "metadata": {},
     "outputs": [
      {
       "metadata": {},
       "output_type": "pyout",
       "prompt_number": 62,
       "text": [
        "1    22\n",
        "3    44\n",
        "dtype: int64"
       ]
      }
     ],
     "prompt_number": 62
    },
    {
     "cell_type": "code",
     "collapsed": false,
     "input": [
      "series_a_log10 = np.log10(series_a)\n",
      "series_a_log10"
     ],
     "language": "python",
     "metadata": {},
     "outputs": [
      {
       "metadata": {},
       "output_type": "pyout",
       "prompt_number": 71,
       "text": [
        "0    1.041393\n",
        "1    1.342423\n",
        "2    1.518514\n",
        "3    1.643453\n",
        "dtype: float64"
       ]
      }
     ],
     "prompt_number": 71
    },
    {
     "cell_type": "code",
     "collapsed": false,
     "input": [
      "## Vectorized operations\n",
      "series_a + series_a"
     ],
     "language": "python",
     "metadata": {},
     "outputs": [
      {
       "metadata": {},
       "output_type": "pyout",
       "prompt_number": 89,
       "text": [
        "0    22\n",
        "1    44\n",
        "2    66\n",
        "3    88\n",
        "dtype: int64"
       ]
      }
     ],
     "prompt_number": 89
    },
    {
     "cell_type": "code",
     "collapsed": false,
     "input": [
      "## caution when adding different\n",
      "## index and data types\n",
      "series_a + series_b"
     ],
     "language": "python",
     "metadata": {},
     "outputs": [
      {
       "metadata": {},
       "output_type": "pyout",
       "prompt_number": 90,
       "text": [
        "0   NaN\n",
        "1   NaN\n",
        "2   NaN\n",
        "3   NaN\n",
        "a   NaN\n",
        "b   NaN\n",
        "c   NaN\n",
        "d   NaN\n",
        "e   NaN\n",
        "dtype: float64"
       ]
      }
     ],
     "prompt_number": 90
    },
    {
     "cell_type": "code",
     "collapsed": false,
     "input": [
      "## series operations are aligned automatically\n",
      "## based on label\n",
      "series_a[0:] + series_a[:3]"
     ],
     "language": "python",
     "metadata": {},
     "outputs": [
      {
       "metadata": {},
       "output_type": "pyout",
       "prompt_number": 111,
       "text": [
        "0    22\n",
        "1    44\n",
        "2    66\n",
        "3   NaN\n",
        "dtype: float64"
       ]
      }
     ],
     "prompt_number": 111
    },
    {
     "cell_type": "code",
     "collapsed": false,
     "input": [
      "## name attribute for series\n",
      "series_a.name = \"a\""
     ],
     "language": "python",
     "metadata": {},
     "outputs": [],
     "prompt_number": 114
    },
    {
     "cell_type": "code",
     "collapsed": false,
     "input": [],
     "language": "python",
     "metadata": {},
     "outputs": []
    }
   ],
   "metadata": {}
  }
 ]
}