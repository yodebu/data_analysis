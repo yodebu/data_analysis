{
 "metadata": {
  "name": "",
  "signature": "sha256:1f9fd3fdd052ac7682e33e3dc6296844adf72e8968722b0d506f951eeb7c3937"
 },
 "nbformat": 3,
 "nbformat_minor": 0,
 "worksheets": []
}